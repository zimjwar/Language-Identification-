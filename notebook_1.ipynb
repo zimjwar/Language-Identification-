{
 "cells": [
  {
   "cell_type": "markdown",
   "id": "50f94328",
   "metadata": {},
   "source": [
    "### South African Language Identification"
   ]
  },
  {
   "cell_type": "markdown",
   "id": "d3dd3c75",
   "metadata": {},
   "source": [
    "## Table of Content\n",
    "\n",
    "1. Introduction\n",
    "2. Problem Statement\n",
    "3. Loading Packages\n",
    "4. Loading the Data\n",
    "5. Exploratory Data Analysis (EDA)\n",
    "6. Data Engineering\n",
    "7. Modelling\n",
    "8. Model Explanation\n",
    "9. Conclusion"
   ]
  },
  {
   "cell_type": "markdown",
   "id": "93e7d96e",
   "metadata": {},
   "source": [
    "## 1. Introduction"
   ]
  },
  {
   "cell_type": "markdown",
   "id": "ef52cd53",
   "metadata": {},
   "source": [
    "South Africa is a vibrant and multicultural society with a rich linguistic tapestry. Its diverse population,\n",
    "encompassing various languages, underscores the importance of language as a vital tool for enhancing democracy and\n",
    "enriching the social, cultural, intellectual, economic, and political fabric of the nation. In light of this linguistic\n",
    "diversity, it becomes imperative for our systems and devices to support communication in multiple languages, reflecting the \n",
    "inclusive nature of South African society."
   ]
  },
  {
   "cell_type": "code",
   "execution_count": null,
   "id": "81a8f0c2",
   "metadata": {},
   "outputs": [],
   "source": [
    "\n",
    "## 2. Problem Statement"
   ]
  },
  {
   "cell_type": "markdown",
   "id": "59863f5b",
   "metadata": {},
   "source": [
    "In this task, the objective is to employ Natural Language Processing (NLP) for Language Identification in South Africa's 11 Official languages. The goal is to accurately determine the language of a given text, showcasing the application of NLP techniques in discerning the natural language in which a piece of text is written."
   ]
  },
  {
   "cell_type": "markdown",
   "id": "43f78819",
   "metadata": {},
   "source": [
    "## 3 Importing Packages"
   ]
  },
  {
   "cell_type": "code",
   "execution_count": null,
   "id": "edddca69",
   "metadata": {},
   "outputs": [],
   "source": [
    "import numpy as np\n",
    "import pandas as pd\n",
    "import seaborn as sns\n",
    "from matplotlib import pyplot as plt\n",
    "import matplotlib.pyplot as plt\n",
    "from scipy.sparse import hstack\n",
    "%matplotlib inline\n",
    "import seaborn as sns\n",
    "import re\n",
    "import re\n",
    "from nltk.corpus import stopwords\n",
    "from nltk.tokenize import word_tokenize\n",
    "from nltk.stem import PorterStemmer\n",
    "import nltk\n",
    "\n",
    "sns.set()\n",
    "from matplotlib import pyplot as plt\n",
    "from sklearn.feature_extraction.text import CountVectorizer\n",
    "from sklearn.datasets import load_breast_cancer\n",
    "from sklearn.linear_model import LogisticRegression\n",
    "from sklearn.model_selection import train_test_split, GridSearchCV\n",
    "from sklearn.feature_extraction.text import TfidfVectorizer\n",
    "from nltk.probability import FreqDist\n",
    "\n",
    "from sklearn.linear_model import LogisticRegression\n",
    "from sklearn import preprocessing\n",
    "from wordcloud import WordCloud\n",
    "from sklearn.metrics import accuracy_score\n",
    "from collections import Counter\n",
    "from sklearn.tree import DecisionTreeClassifier\n",
    "from sklearn.metrics import classification_report\n",
    "from sklearn.svm import SVC\n",
    "from sklearn.metrics import f1_score\n",
    "from sklearn.preprocessing import StandardScaler\n",
    "from sklearn.metrics import f1_score, precision_score, recall_score, confusion_matrix"
   ]
  },
  {
   "cell_type": "code",
   "execution_count": null,
   "id": "9f9e48e6",
   "metadata": {},
   "outputs": [],
   "source": [
    "from nltk.corpus import stopwords"
   ]
  },
  {
   "cell_type": "code",
   "execution_count": null,
   "id": "c815ce72",
   "metadata": {},
   "outputs": [],
   "source": [
    "pip install wordcloud"
   ]
  },
  {
   "cell_type": "markdown",
   "id": "4e86f2e7",
   "metadata": {},
   "source": [
    "## 4. Loading the Data"
   ]
  },
  {
   "cell_type": "code",
   "execution_count": null,
   "id": "d93cb7d0",
   "metadata": {},
   "outputs": [],
   "source": [
    "#Load the test and train data\n",
    "df_train = pd.read_csv(r\"C:\\Users\\Zinhle\\Downloads\\south-african-language-identification-hack-2023\\train_set.csv\")\n",
    "df_test = pd.read_csv(r\"C:\\Users\\Zinhle\\Downloads\\south-african-language-identification-hack-2023\\test_set.csv\")\n",
    "\n",
    "df_train.head()"
   ]
  },
  {
   "cell_type": "code",
   "execution_count": null,
   "id": "943126d0",
   "metadata": {},
   "outputs": [],
   "source": [
    "#Printing the test dataset\n",
    "df_test"
   ]
  },
  {
   "cell_type": "markdown",
   "id": "31850a82",
   "metadata": {},
   "source": [
    "## 5. Exploratory Data Analysis (EDA)"
   ]
  },
  {
   "cell_type": "markdown",
   "id": "c404ccd7",
   "metadata": {},
   "source": [
    "### 5.1 Reading the train dataset"
   ]
  },
  {
   "cell_type": "code",
   "execution_count": null,
   "id": "8a263858",
   "metadata": {},
   "outputs": [],
   "source": [
    "#Looking at the train data\n",
    "df_train = pd.read_csv(r\"C:\\Users\\Zinhle\\Downloads\\south-african-language-identification-hack-2023\\train_set.csv\")\n",
    "df_train.head()"
   ]
  },
  {
   "cell_type": "markdown",
   "id": "0138d282",
   "metadata": {},
   "source": [
    "### 5.2 Analysing the Data\n"
   ]
  },
  {
   "cell_type": "code",
   "execution_count": null,
   "id": "e0206536",
   "metadata": {},
   "outputs": [],
   "source": [
    "# Looking at the shape of the train dataset.\n",
    "\n",
    "df_train.shape"
   ]
  },
  {
   "cell_type": "code",
   "execution_count": null,
   "id": "671e325e",
   "metadata": {},
   "outputs": [],
   "source": [
    "# looking at the shape of the test data\n",
    "\n",
    "df_test.shape"
   ]
  },
  {
   "cell_type": "code",
   "execution_count": null,
   "id": "a7db56fb",
   "metadata": {},
   "outputs": [],
   "source": [
    "#checks what information does the train datasets holds\n",
    "df_train.info()"
   ]
  },
  {
   "cell_type": "code",
   "execution_count": null,
   "id": "8208f29e",
   "metadata": {},
   "outputs": [],
   "source": [
    "#checks what information does the test datasets holds\n",
    "df_test.info()"
   ]
  },
  {
   "cell_type": "code",
   "execution_count": null,
   "id": "176d9aaf",
   "metadata": {},
   "outputs": [],
   "source": [
    "#checks columns available in the train data set\n",
    "df_train.columns"
   ]
  },
  {
   "cell_type": "code",
   "execution_count": null,
   "id": "5644e466",
   "metadata": {},
   "outputs": [],
   "source": [
    "#checks columns available in the test data set\n",
    "df_test.columns"
   ]
  },
  {
   "cell_type": "code",
   "execution_count": null,
   "id": "6b8a60e2",
   "metadata": {},
   "outputs": [],
   "source": [
    "#checking for nulls in the train data.\n",
    "df_train.isnull().sum()"
   ]
  },
  {
   "cell_type": "code",
   "execution_count": null,
   "id": "f12c33a0",
   "metadata": {},
   "outputs": [],
   "source": [
    "#checking for nulls in the test data.\n",
    "df_test.isnull().sum()"
   ]
  },
  {
   "cell_type": "code",
   "execution_count": null,
   "id": "0b195cdb",
   "metadata": {},
   "outputs": [],
   "source": [
    "#checks the last 5 rows of the train  dataset given.\n",
    "df_train.tail()"
   ]
  },
  {
   "cell_type": "code",
   "execution_count": null,
   "id": "fc1aff39",
   "metadata": {},
   "outputs": [],
   "source": [
    "#checks the last 5 rows of the test dataset provided.\n",
    "df_test.tail()"
   ]
  },
  {
   "cell_type": "code",
   "execution_count": null,
   "id": "5e4d24a4",
   "metadata": {},
   "outputs": [],
   "source": [
    "#Checking for duplicates in the train dataset.\n",
    "df_train.nunique()"
   ]
  },
  {
   "cell_type": "code",
   "execution_count": null,
   "id": "737124b9",
   "metadata": {},
   "outputs": [],
   "source": [
    "#Checking for duplicates in the test dataset.\n",
    "df_test.nunique()"
   ]
  },
  {
   "cell_type": "code",
   "execution_count": null,
   "id": "84172b78",
   "metadata": {},
   "outputs": [],
   "source": [
    "#Statistics summary of all train data\n",
    "df_train.describe(include='all').T"
   ]
  },
  {
   "cell_type": "code",
   "execution_count": null,
   "id": "3f6a9364",
   "metadata": {},
   "outputs": [],
   "source": [
    "#Summary of all test data\n",
    "df_test.describe(include='all').T"
   ]
  },
  {
   "cell_type": "code",
   "execution_count": null,
   "id": "69a84f92",
   "metadata": {},
   "outputs": [],
   "source": [
    "#This piece of code counts the value to understand the distribution of categories for train data.\n",
    "df_train.value_counts()"
   ]
  },
  {
   "cell_type": "code",
   "execution_count": null,
   "id": "a6d0a85b",
   "metadata": {},
   "outputs": [],
   "source": [
    "#This piece of code counts the value to understand the distribution of categories for the test data.\n",
    "df_test.value_counts()"
   ]
  },
  {
   "cell_type": "markdown",
   "id": "c4340493",
   "metadata": {},
   "source": [
    "## 6. Data Engineering"
   ]
  },
  {
   "cell_type": "code",
   "execution_count": null,
   "id": "bd888963",
   "metadata": {},
   "outputs": [],
   "source": [
    "df_combined = pd.concat([df_train, df_test], axis=0, ignore_index=True)\n"
   ]
  },
  {
   "cell_type": "code",
   "execution_count": 38,
   "id": "46df920d",
   "metadata": {},
   "outputs": [],
   "source": [
    "df_train = df_combined.iloc[:len(df_train)]\n",
    "df_test = df_combined.iloc[len(df_train):]"
   ]
  },
  {
   "cell_type": "code",
   "execution_count": 39,
   "id": "37d33599",
   "metadata": {},
   "outputs": [
    {
     "data": {
      "text/html": [
       "<div>\n",
       "<style scoped>\n",
       "    .dataframe tbody tr th:only-of-type {\n",
       "        vertical-align: middle;\n",
       "    }\n",
       "\n",
       "    .dataframe tbody tr th {\n",
       "        vertical-align: top;\n",
       "    }\n",
       "\n",
       "    .dataframe thead th {\n",
       "        text-align: right;\n",
       "    }\n",
       "</style>\n",
       "<table border=\"1\" class=\"dataframe\">\n",
       "  <thead>\n",
       "    <tr style=\"text-align: right;\">\n",
       "      <th></th>\n",
       "      <th>lang_id</th>\n",
       "      <th>text</th>\n",
       "      <th>index</th>\n",
       "    </tr>\n",
       "  </thead>\n",
       "  <tbody>\n",
       "    <tr>\n",
       "      <th>0</th>\n",
       "      <td>xho</td>\n",
       "      <td>umgaqo-siseko wenza amalungiselelo kumaziko ax...</td>\n",
       "      <td>NaN</td>\n",
       "    </tr>\n",
       "    <tr>\n",
       "      <th>1</th>\n",
       "      <td>xho</td>\n",
       "      <td>i-dha iya kuba nobulumko bokubeka umsebenzi na...</td>\n",
       "      <td>NaN</td>\n",
       "    </tr>\n",
       "    <tr>\n",
       "      <th>2</th>\n",
       "      <td>eng</td>\n",
       "      <td>the province of kwazulu-natal department of tr...</td>\n",
       "      <td>NaN</td>\n",
       "    </tr>\n",
       "    <tr>\n",
       "      <th>3</th>\n",
       "      <td>nso</td>\n",
       "      <td>o netefatša gore o ba file dilo ka moka tše le...</td>\n",
       "      <td>NaN</td>\n",
       "    </tr>\n",
       "    <tr>\n",
       "      <th>4</th>\n",
       "      <td>ven</td>\n",
       "      <td>khomishini ya ndinganyiso ya mbeu yo ewa maana...</td>\n",
       "      <td>NaN</td>\n",
       "    </tr>\n",
       "    <tr>\n",
       "      <th>...</th>\n",
       "      <td>...</td>\n",
       "      <td>...</td>\n",
       "      <td>...</td>\n",
       "    </tr>\n",
       "    <tr>\n",
       "      <th>32995</th>\n",
       "      <td>tsn</td>\n",
       "      <td>popo ya dipolateforomo tse ke go tlisa boetele...</td>\n",
       "      <td>NaN</td>\n",
       "    </tr>\n",
       "    <tr>\n",
       "      <th>32996</th>\n",
       "      <td>sot</td>\n",
       "      <td>modise mosadi na o ntse o sa utlwe hore thaban...</td>\n",
       "      <td>NaN</td>\n",
       "    </tr>\n",
       "    <tr>\n",
       "      <th>32997</th>\n",
       "      <td>eng</td>\n",
       "      <td>closing date for the submission of completed t...</td>\n",
       "      <td>NaN</td>\n",
       "    </tr>\n",
       "    <tr>\n",
       "      <th>32998</th>\n",
       "      <td>xho</td>\n",
       "      <td>nawuphina umntu ofunyenwe enetyala phantsi kwa...</td>\n",
       "      <td>NaN</td>\n",
       "    </tr>\n",
       "    <tr>\n",
       "      <th>32999</th>\n",
       "      <td>sot</td>\n",
       "      <td>mafapha a mang le ona a lokela ho etsa ditlale...</td>\n",
       "      <td>NaN</td>\n",
       "    </tr>\n",
       "  </tbody>\n",
       "</table>\n",
       "<p>33000 rows × 3 columns</p>\n",
       "</div>"
      ],
      "text/plain": [
       "      lang_id                                               text  index\n",
       "0         xho  umgaqo-siseko wenza amalungiselelo kumaziko ax...    NaN\n",
       "1         xho  i-dha iya kuba nobulumko bokubeka umsebenzi na...    NaN\n",
       "2         eng  the province of kwazulu-natal department of tr...    NaN\n",
       "3         nso  o netefatša gore o ba file dilo ka moka tše le...    NaN\n",
       "4         ven  khomishini ya ndinganyiso ya mbeu yo ewa maana...    NaN\n",
       "...       ...                                                ...    ...\n",
       "32995     tsn  popo ya dipolateforomo tse ke go tlisa boetele...    NaN\n",
       "32996     sot  modise mosadi na o ntse o sa utlwe hore thaban...    NaN\n",
       "32997     eng  closing date for the submission of completed t...    NaN\n",
       "32998     xho  nawuphina umntu ofunyenwe enetyala phantsi kwa...    NaN\n",
       "32999     sot  mafapha a mang le ona a lokela ho etsa ditlale...    NaN\n",
       "\n",
       "[33000 rows x 3 columns]"
      ]
     },
     "execution_count": 39,
     "metadata": {},
     "output_type": "execute_result"
    }
   ],
   "source": [
    "df_train"
   ]
  },
  {
   "cell_type": "code",
   "execution_count": 42,
   "id": "68f9e294",
   "metadata": {},
   "outputs": [
    {
     "data": {
      "text/plain": [
       "count     33000\n",
       "unique       11\n",
       "top         xho\n",
       "freq       3000\n",
       "Name: lang_id, dtype: object"
      ]
     },
     "execution_count": 42,
     "metadata": {},
     "output_type": "execute_result"
    }
   ],
   "source": [
    "df_train.lang_id.describe()"
   ]
  },
  {
   "cell_type": "code",
   "execution_count": 56,
   "id": "a3a0b56f",
   "metadata": {},
   "outputs": [
    {
     "data": {
      "image/png": "[encoded data removed]",
      "text/plain": [
       "<Figure size 640x480 with 1 Axes>"
      ]
     },
     "metadata": {},
     "output_type": "display_data"
    }
   ],
   "source": [
    "# The distribution of classes in 'sentiment' 1(reference class) has the highest distribution\n",
    "\n",
    "sns.countplot(x='lang_id', data=df_train)\n",
    "plt.title('Distribution of Sentiments')\n",
    "plt.show()"
   ]
  },
  {
   "cell_type": "code",
   "execution_count": 79,
   "metadata": {},
   "outputs": [
    {
     "name": "stderr",
     "output_type": "stream",
     "text": [
      "C:\\Users\\Zinhle\\AppData\\Local\\Temp\\ipykernel_36324\\1675813566.py:2: SettingWithCopyWarning: \n",
      "A value is trying to be set on a copy of a slice from a DataFrame.\n",
      "Try using .loc[row_indexer,col_indexer] = value instead\n",
      "\n",
      "See the caveats in the documentation: https://pandas.pydata.org/pandas-docs/stable/user_guide/indexing.html#returning-a-view-versus-a-copy\n",
      "  df_train['index'] = df_train['text'].apply(len)\n"
     ]
    }
   ],
   "source": [
    "# Analyze the characteristics of the tweet text\n",
    "df_train['index'] = df_train['text'].apply(len)"
   ]
  },
  {
   "cell_type": "code",
   "execution_count": 73,
   "id": "075412d6",
   "metadata": {},
   "outputs": [
    {
     "data": {
      "image/png": "[encoded data removed]",
      "text/plain": [
       "<Figure size 1000x600 with 1 Axes>"
      ]
     },
     "metadata": {},
     "output_type": "display_data"
    }
   ],
   "source": [
    "plt.figure(figsize=(10, 6))\n",
    "sns.histplot(df_train['lang_id'], bins=50, kde=True)\n",
    "plt.title('Distribution of Home language speaker')\n",
    "plt.xlabel('lang_id')\n",
    "plt.show()"
   ]
  },
  {
   "cell_type": "code",
   "execution_count": 75,
   "id": "1a619c3c",
   "metadata": {},
   "outputs": [],
   "source": [
    "df_combined = pd.concat([df_train, df_test], axis=0, ignore_index=True)"
   ]
  },
  {
   "cell_type": "code",
   "execution_count": 76,
   "id": "52d6a185",
   "metadata": {},
   "outputs": [],
   "source": [
    "df_train = df_combined.iloc[:len(df_train)]\n",
    "df_test = df_combined.iloc[len(df_train):]"
   ]
  },
  {
   "cell_type": "code",
   "execution_count": null,
   "id": "d6cade3b",
   "metadata": {},
   "outputs": [],
   "source": []
  }
 ],
 "metadata": {
  "kernelspec": {
   "display_name": "Python 3 (ipykernel)",
   "language": "python",
   "name": "python3"
  },
  "language_info": {
   "codemirror_mode": {
    "name": "ipython",
    "version": 3
   },
   "file_extension": ".py",
   "mimetype": "text/x-python",
   "name": "python",
   "nbconvert_exporter": "python",
   "pygments_lexer": "ipython3",
   "version": "3.11.5"
  }
 },
 "nbformat": 4,
 "nbformat_minor": 5
}
